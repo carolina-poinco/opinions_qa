{
 "cells": [
  {
   "cell_type": "code",
   "execution_count": 1,
   "id": "8d70339c",
   "metadata": {},
   "outputs": [
    {
     "name": "stderr",
     "output_type": "stream",
     "text": [
      "/Users/carolina.oguchi/Library/Python/3.9/lib/python/site-packages/urllib3/__init__.py:35: NotOpenSSLWarning: urllib3 v2 only supports OpenSSL 1.1.1+, currently the 'ssl' module is compiled with 'LibreSSL 2.8.3'. See: https://github.com/urllib3/urllib3/issues/3020\n",
      "  warnings.warn(\n"
     ]
    }
   ],
   "source": [
    "import os\n",
    "import json\n",
    "import numpy as np\n",
    "import pandas as pd\n",
    "from scipy.stats import wasserstein_distance\n",
    "import helpers as ph\n",
    "import seaborn as sns\n",
    "import dataframe_image as dfi\n",
    "\n",
    "styles = ph.VIS_STYLES"
   ]
  },
  {
   "cell_type": "code",
   "execution_count": 2,
   "id": "1fdcd906",
   "metadata": {},
   "outputs": [],
   "source": [
    "RESULTS_DIR = f'./data/distributions/'\n",
    "CONTEXT = 'default'\n",
    "SAVEFIG = True"
   ]
  },
  {
   "cell_type": "markdown",
   "id": "271c7575",
   "metadata": {},
   "source": [
    "## Load human and LM opinion distributions"
   ]
  },
  {
   "cell_type": "code",
   "execution_count": 4,
   "id": "d4f60044",
   "metadata": {},
   "outputs": [],
   "source": [
    "combined_df, human_df = [], []\n",
    "for wave in ph.PEW_SURVEY_LIST:\n",
    "    SURVEY_NAME = f'American_Trends_Panel_W{wave}'\n",
    "\n",
    "    cdf = pd.read_csv(os.path.join(RESULTS_DIR, f'{SURVEY_NAME}_{CONTEXT}_combined.csv'))\n",
    "    cdf['survey'] = f'ATP {wave}'\n",
    "    combined_df.append(cdf)\n",
    "    \n",
    "    hdf = pd.read_csv(os.path.join(RESULTS_DIR, f'{SURVEY_NAME}_baseline.csv'))\n",
    "    hdf['survey'] = f'ATP {wave}'\n",
    "    human_df.append(hdf)\n",
    "combined_df, human_df = pd.concat(combined_df), pd.concat(human_df)\n",
    "combined_df['Source'] = combined_df.apply(lambda x: 'AI21 Labs' if 'j1-' in x['model_name'].lower() else 'OpenAI',\n",
    "                                          axis=1)"
   ]
  },
  {
   "cell_type": "markdown",
   "id": "5242f3ae",
   "metadata": {},
   "source": [
    "## Compare refusals"
   ]
  },
  {
   "cell_type": "code",
   "execution_count": 5,
   "id": "d2a2e617",
   "metadata": {},
   "outputs": [],
   "source": [
    "KEYS = ['Source', 'model_name', 'attribute', 'model_order']\n",
    "\n",
    "model_refusals = combined_df[combined_df['group'] == 'Overall']\n",
    "model_refusals = model_refusals.groupby(KEYS, as_index=False).agg({'R_M': lambda x: 100 * np.mean(x)}) \\\n",
    "         .sort_values(by=['model_order']).rename(columns={'R_M': 'Refusal'})\n",
    "human_refusals = combined_df.groupby(['group', 'group_order'], as_index=False) \\\n",
    "                .agg({'R_H':  lambda x: 100 * np.mean(x)}).rename(columns={'R_H': 'Refusal'})\n",
    "human_refusals['Source'] = 'humans'\n",
    "human_refusals['model_name'] = 'overall'"
   ]
  },
  {
   "cell_type": "code",
   "execution_count": 11,
   "id": "6bcfe424",
   "metadata": {},
   "outputs": [],
   "source": [
    "!playwright install-deps"
   ]
  },
  {
   "cell_type": "code",
   "execution_count": 14,
   "id": "12d0cc9e",
   "metadata": {},
   "outputs": [
    {
     "data": {
      "text/html": [
       "<style type=\"text/css\">\n",
       "#T_ebe2d th {\n",
       "  width: 90px;\n",
       "  font-size: 95%;\n",
       "  border-left: 1px solid black;\n",
       "  border-bottom: 1px solid black;\n",
       "  border-right: 1px solid black;\n",
       "  border-top: 1px solid black;\n",
       "}\n",
       "#T_ebe2d td {\n",
       "  text-align: center;\n",
       "  border-left: 1px solid black;\n",
       "  border-bottom: 1px solid black;\n",
       "  border-right: 1px solid black;\n",
       "  border-top: 1px solid black;\n",
       "}\n",
       "#T_ebe2d th.row_heading {\n",
       "  text-align: center;\n",
       "  font-size: 100%;\n",
       "}\n",
       "#T_ebe2d th.col_heading {\n",
       "  text-align: center;\n",
       "  width: 100px;\n",
       "  vertical-align: top;\n",
       "  transform: translate(0%,10%);\n",
       "  font-size: 70%;\n",
       "}\n",
       "#T_ebe2d_row0_col0 {\n",
       "  background-color: #fff5f0;\n",
       "  color: #000000;\n",
       "  font-size: 0.7rem;\n",
       "}\n",
       "#T_ebe2d_row0_col1 {\n",
       "  background-color: #67000d;\n",
       "  color: #f1f1f1;\n",
       "  font-size: 0.7rem;\n",
       "}\n",
       "#T_ebe2d_row0_col2, #T_ebe2d_row0_col3 {\n",
       "  background-color: #f24734;\n",
       "  color: #f1f1f1;\n",
       "  font-size: 0.7rem;\n",
       "}\n",
       "#T_ebe2d_row0_col4 {\n",
       "  background-color: #be151a;\n",
       "  color: #f1f1f1;\n",
       "  font-size: 0.7rem;\n",
       "}\n",
       "#T_ebe2d_row0_col5 {\n",
       "  background-color: #f03d2d;\n",
       "  color: #f1f1f1;\n",
       "  font-size: 0.7rem;\n",
       "}\n",
       "#T_ebe2d_row0_col6 {\n",
       "  background-color: #c8171c;\n",
       "  color: #f1f1f1;\n",
       "  font-size: 0.7rem;\n",
       "}\n",
       "#T_ebe2d_row0_col7 {\n",
       "  background-color: #fff4ee;\n",
       "  color: #000000;\n",
       "  font-size: 0.7rem;\n",
       "}\n",
       "#T_ebe2d_row0_col8 {\n",
       "  background-color: #fee2d5;\n",
       "  color: #000000;\n",
       "  font-size: 0.7rem;\n",
       "}\n",
       "#T_ebe2d_row0_col9 {\n",
       "  background-color: #fff1ea;\n",
       "  color: #000000;\n",
       "  font-size: 0.7rem;\n",
       "}\n",
       "</style>\n",
       "<table id=\"T_ebe2d\">\n",
       "  <thead>\n",
       "    <tr>\n",
       "      <th class=\"index_name level0\" >Source</th>\n",
       "      <th id=\"T_ebe2d_level0_col0\" class=\"col_heading level0 col0\" >humans</th>\n",
       "      <th id=\"T_ebe2d_level0_col1\" class=\"col_heading level0 col1\" colspan=\"3\">AI21 Labs</th>\n",
       "      <th id=\"T_ebe2d_level0_col4\" class=\"col_heading level0 col4\" colspan=\"6\">OpenAI</th>\n",
       "    </tr>\n",
       "    <tr>\n",
       "      <th class=\"index_name level1\" ></th>\n",
       "      <th id=\"T_ebe2d_level1_col0\" class=\"col_heading level1 col0\" >overall</th>\n",
       "      <th id=\"T_ebe2d_level1_col1\" class=\"col_heading level1 col1\" >j1-grande</th>\n",
       "      <th id=\"T_ebe2d_level1_col2\" class=\"col_heading level1 col2\" >j1-jumbo</th>\n",
       "      <th id=\"T_ebe2d_level1_col3\" class=\"col_heading level1 col3\" >j1-grande-v2-beta</th>\n",
       "      <th id=\"T_ebe2d_level1_col4\" class=\"col_heading level1 col4\" >ada</th>\n",
       "      <th id=\"T_ebe2d_level1_col5\" class=\"col_heading level1 col5\" >davinci</th>\n",
       "      <th id=\"T_ebe2d_level1_col6\" class=\"col_heading level1 col6\" >text-ada-001</th>\n",
       "      <th id=\"T_ebe2d_level1_col7\" class=\"col_heading level1 col7\" >text-davinci-001</th>\n",
       "      <th id=\"T_ebe2d_level1_col8\" class=\"col_heading level1 col8\" >text-davinci-002</th>\n",
       "      <th id=\"T_ebe2d_level1_col9\" class=\"col_heading level1 col9\" >text-davinci-003</th>\n",
       "    </tr>\n",
       "  </thead>\n",
       "  <tbody>\n",
       "    <tr>\n",
       "      <th id=\"T_ebe2d_level0_row0\" class=\"row_heading level0 row0\" >Refusal</th>\n",
       "      <td id=\"T_ebe2d_row0_col0\" class=\"data row0 col0\" >1.538</td>\n",
       "      <td id=\"T_ebe2d_row0_col1\" class=\"data row0 col1\" >21.209</td>\n",
       "      <td id=\"T_ebe2d_row0_col2\" class=\"data row0 col2\" >13.171</td>\n",
       "      <td id=\"T_ebe2d_row0_col3\" class=\"data row0 col3\" >13.147</td>\n",
       "      <td id=\"T_ebe2d_row0_col4\" class=\"data row0 col4\" >17.076</td>\n",
       "      <td id=\"T_ebe2d_row0_col5\" class=\"data row0 col5\" >13.729</td>\n",
       "      <td id=\"T_ebe2d_row0_col6\" class=\"data row0 col6\" >16.447</td>\n",
       "      <td id=\"T_ebe2d_row0_col7\" class=\"data row0 col7\" >1.750</td>\n",
       "      <td id=\"T_ebe2d_row0_col8\" class=\"data row0 col8\" >3.778</td>\n",
       "      <td id=\"T_ebe2d_row0_col9\" class=\"data row0 col9\" >2.004</td>\n",
       "    </tr>\n",
       "  </tbody>\n",
       "</table>\n"
      ],
      "text/plain": [
       "<pandas.io.formats.style.Styler at 0x1694075e0>"
      ]
     },
     "metadata": {},
     "output_type": "display_data"
    }
   ],
   "source": [
    "refusal_table = pd.concat([human_refusals[human_refusals['group'] == 'Overall'],\n",
    "                           model_refusals]) \\\n",
    "                .rename(columns={'model_name': ''})\n",
    "\n",
    "refusal_table = pd.pivot_table(refusal_table, \n",
    "                       columns=['Source', ''], \n",
    "                       values=\"Refusal\", \n",
    "                       sort=False)\n",
    "table_vis = refusal_table.style.background_gradient(\"Reds\", axis=1)\\\n",
    "                        .set_table_styles(ph.VIS_STYLES)  \\\n",
    "                        .set_properties(**{\"font-size\":\"0.7rem\"}).format(precision=3)\n",
    "#if SAVEFIG: table_vis.hide().export_png(f'./figures/refusals.png')\n",
    "display(table_vis)"
   ]
  },
  {
   "cell_type": "code",
   "execution_count": null,
   "id": "794054c1",
   "metadata": {},
   "outputs": [],
   "source": []
  },
  {
   "cell_type": "code",
   "execution_count": null,
   "id": "bda05e06",
   "metadata": {},
   "outputs": [],
   "source": []
  }
 ],
 "metadata": {
  "kernelspec": {
   "display_name": "Python 3",
   "language": "python",
   "name": "python3"
  },
  "language_info": {
   "codemirror_mode": {
    "name": "ipython",
    "version": 3
   },
   "file_extension": ".py",
   "mimetype": "text/x-python",
   "name": "python",
   "nbconvert_exporter": "python",
   "pygments_lexer": "ipython3",
   "version": "3.9.6"
  }
 },
 "nbformat": 4,
 "nbformat_minor": 5
}
